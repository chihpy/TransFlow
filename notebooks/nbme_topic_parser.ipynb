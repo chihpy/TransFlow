{
 "cells": [
  {
   "cell_type": "code",
   "execution_count": null,
   "id": "01b25866-d423-4ef6-8788-86cbf1442727",
   "metadata": {},
   "outputs": [],
   "source": []
  },
  {
   "cell_type": "code",
   "execution_count": 1,
   "id": "2c4f6aea-5156-41f3-aa15-a35293f8a242",
   "metadata": {},
   "outputs": [],
   "source": [
    "import os"
   ]
  },
  {
   "cell_type": "code",
   "execution_count": 2,
   "id": "8982815f-9c3e-4c4d-b1d1-4eeee8d8ebbb",
   "metadata": {},
   "outputs": [],
   "source": [
    "source_file_path = \"/home/poyuan/workspace/MCQG/Category/NBME.txt\""
   ]
  },
  {
   "cell_type": "code",
   "execution_count": 4,
   "id": "3dff7902-74f5-4439-a109-dd3ac1e043b0",
   "metadata": {},
   "outputs": [
    {
     "data": {
      "text/plain": [
       "303"
      ]
     },
     "execution_count": 4,
     "metadata": {},
     "output_type": "execute_result"
    }
   ],
   "source": [
    "with open(source_file_path, 'r') as f:\n",
    "    lines = f.readlines()\n",
    "len(lines)"
   ]
  },
  {
   "cell_type": "code",
   "execution_count": 5,
   "id": "2a795ebb-2300-4689-bde7-222cd9b4fd9a",
   "metadata": {},
   "outputs": [
    {
     "data": {
      "text/plain": [
       "'# APPENDIX B: SAMPLE LEAD-INS BASED ON TASK COMPETENCIES\\n'"
      ]
     },
     "execution_count": 5,
     "metadata": {},
     "output_type": "execute_result"
    }
   ],
   "source": [
    "lines[0]"
   ]
  },
  {
   "cell_type": "code",
   "execution_count": 6,
   "id": "1aec18fc-7e57-498b-a9b1-15a800ec0b38",
   "metadata": {},
   "outputs": [],
   "source": [
    "lines = lines[1:]"
   ]
  },
  {
   "cell_type": "code",
   "execution_count": 7,
   "id": "1d92da8c-ba20-444f-9d41-b904ef199f4c",
   "metadata": {},
   "outputs": [
    {
     "data": {
      "text/plain": [
       "'## Patient Care: Diagnosis—Causes and Mechanisms \\n'"
      ]
     },
     "execution_count": 7,
     "metadata": {},
     "output_type": "execute_result"
    }
   ],
   "source": [
    "lines[0]"
   ]
  },
  {
   "cell_type": "code",
   "execution_count": 8,
   "id": "63b08149-07c8-4096-a536-33001b308b48",
   "metadata": {},
   "outputs": [],
   "source": [
    "DEST_DIR = \"/home/poyuan/workspace/MCQG/Category/NBME\"\n",
    "os.makedirs(DEST_DIR, exist_ok=True)"
   ]
  },
  {
   "cell_type": "code",
   "execution_count": 9,
   "id": "63257645-21a3-408a-9b17-43f77f8f1efe",
   "metadata": {},
   "outputs": [],
   "source": [
    "import re\n",
    "from typing import List, Dict, Any\n",
    "\n",
    "def parse_outline(text: str) -> List[Dict[str, Any]]:\n",
    "    sections: List[Dict[str, Any]] = []\n",
    "    cur_l2 = None\n",
    "    cur_l3 = None\n",
    "\n",
    "    for raw in text.splitlines():\n",
    "        line = raw.rstrip()\n",
    "        s = line.strip()\n",
    "        if not s:\n",
    "            continue  # 跳過空行\n",
    "\n",
    "        # L2: 以 \"## \" 開頭\n",
    "        m2 = re.match(r'^##\\s+(.*)$', s)\n",
    "        if m2:\n",
    "            title2 = m2.group(1).strip()\n",
    "            cur_l2 = {\"l2\": title2, \"l3\": []}\n",
    "            sections.append(cur_l2)\n",
    "            cur_l3 = None\n",
    "            continue\n",
    "\n",
    "        # L3: 以 \"### \" 開頭（掛到最近的 L2 下）\n",
    "        m3 = re.match(r'^###\\s+(.*)$', s)\n",
    "        if m3:\n",
    "            title3 = m3.group(1).strip()\n",
    "            if cur_l2 is None:  # 若未出現過 L2，建立一個匿名 L2\n",
    "                cur_l2 = {\"l2\": None, \"l3\": []}\n",
    "                sections.append(cur_l2)\n",
    "            cur_l3 = {\"l3\": title3, \"l4\": []}\n",
    "            cur_l2[\"l3\"].append(cur_l3)\n",
    "            continue\n",
    "\n",
    "        # L4: 以 \"- \" 開頭（掛到最近的 L3 下；同時也隱含隸屬最近的 L2）\n",
    "        m4 = re.match(r'^-\\s+(.*)$', s)\n",
    "        if m4:\n",
    "            item = m4.group(1).strip()\n",
    "            if cur_l3 is None:  # 若未出現過 L3，建立匿名 L3 並掛到最近 L2\n",
    "                if cur_l2 is None:\n",
    "                    cur_l2 = {\"l2\": None, \"l3\": []}\n",
    "                    sections.append(cur_l2)\n",
    "                cur_l3 = {\"l3\": None, \"l4\": []}\n",
    "                cur_l2[\"l3\"].append(cur_l3)\n",
    "            cur_l3[\"l4\"].append(item)\n",
    "            continue\n",
    "\n",
    "        # 其他不符合標記的行可視需要處理：這裡先忽略或你也可以記錄為 meta\n",
    "        # print(\"Unrecognized line:\", s)\n",
    "\n",
    "    return sections\n",
    "\n",
    "\n",
    "def flatten_outline(sections: List[Dict[str, Any]]) -> List[Dict[str, str]]:\n",
    "    \"\"\"\n",
    "    將巢狀結構攤平成列資料，方便存成 CSV/資料表：\n",
    "    [{\"l2\": ..., \"l3\": ..., \"l4\": ...}, ...]\n",
    "    \"\"\"\n",
    "    rows = []\n",
    "    for sec in sections:\n",
    "        l2 = sec.get(\"l2\")\n",
    "        for sub in sec.get(\"l3\", []):\n",
    "            l3 = sub.get(\"l3\")\n",
    "            items = sub.get(\"l4\", [])\n",
    "            if items:\n",
    "                for it in items:\n",
    "                    rows.append({\"l2\": l2, \"l3\": l3, \"l4\": it})\n",
    "            else:\n",
    "                rows.append({\"l2\": l2, \"l3\": l3, \"l4\": None})\n",
    "        if not sec.get(\"l3\"):\n",
    "            rows.append({\"l2\": l2, \"l3\": None, \"l4\": None})\n",
    "    return rows"
   ]
  },
  {
   "cell_type": "code",
   "execution_count": 11,
   "id": "fbee5284-265f-4e1f-a5d6-76bca464e068",
   "metadata": {},
   "outputs": [],
   "source": [
    "rv = parse_outline('\\n'.join(lines))"
   ]
  },
  {
   "cell_type": "code",
   "execution_count": 12,
   "id": "af4bcb79-ab3c-471f-992e-71cff205b6da",
   "metadata": {},
   "outputs": [
    {
     "data": {
      "text/plain": [
       "list"
      ]
     },
     "execution_count": 12,
     "metadata": {},
     "output_type": "execute_result"
    }
   ],
   "source": [
    "type(rv)"
   ]
  },
  {
   "cell_type": "code",
   "execution_count": 13,
   "id": "eff91c0c-1635-4aa8-b76d-db062f07368d",
   "metadata": {},
   "outputs": [
    {
     "data": {
      "text/plain": [
       "14"
      ]
     },
     "execution_count": 13,
     "metadata": {},
     "output_type": "execute_result"
    }
   ],
   "source": [
    "len(rv)"
   ]
  },
  {
   "cell_type": "code",
   "execution_count": 14,
   "id": "6934734e-5772-49f5-9bc1-bf16a123600a",
   "metadata": {},
   "outputs": [
    {
     "data": {
      "text/plain": [
       "{'l2': 'Patient Care: Diagnosis—Causes and Mechanisms',\n",
       " 'l3': [{'l3': 'Identifies the cause/infectious agent or predisposing factor(s) or, given an effect, determines the cause.',\n",
       "   'l4': ['Which of the following pathogens is the most likely cause of this patient’s condition?',\n",
       "    'Which of the following is the most likely infectious agent?',\n",
       "    'This patient most likely acquired the infectious agent via which of the following modes of transmission?',\n",
       "    'This patient most likely has a defect in which of the following?',\n",
       "    'Which of the following is the most likely cause/mechanism of this effect?']},\n",
       "  {'l3': 'Identifies the underlying processes/pathways that account for, or contribute to, the expression or resolution of a given condition.',\n",
       "   'l4': ['Which of the following is the most likely underlying cause of this patient’s condition?',\n",
       "    'Which of the following is the most likely explanation for this patient’s condition?',\n",
       "    'Which of the following cell types most likely played a primary role in the development of this lesion?',\n",
       "    'Which of the following immune system mediators plays a critical role in the pathogenesis of this patient’s current condition?',\n",
       "    'This patient most likely has a deficiency in which of the following enzymes?',\n",
       "    'Which of the following cytokines is the most likely cause of this condition?',\n",
       "    'Which of the following processes is most likely impaired in this patient?']},\n",
       "  {'l3': 'Recognizes or evaluates given clinical or physical findings to identify the underlying anatomic structure or physical location.',\n",
       "   'l4': ['The most likely cause of the findings in this patient is damage to which of the following structures?',\n",
       "    'Which of the following structures is at greatest risk for damage during this procedure?',\n",
       "    'Which of the following nerves is most likely carrying the sensation for this patient’s pain?',\n",
       "    'The most likely cause of these findings is dysfunction of which of the following structures?',\n",
       "    'Which of the following developmental abnormalities is the most likely cause of the findings in this patient?']},\n",
       "  {'l3': 'Recognizes the mechanisms of action of various drugs; selects from an option set list of drugs based on mechanism of action.',\n",
       "   'l4': ['Which of the following is the most likely mechanism of the beneficial effect of this drug?',\n",
       "    'Which of the following is the most appropriate management? (response options would be drug classes or mechanisms of action)',\n",
       "    'Which of the following is the most likely mechanism of action of the therapeutic effect of this drug?',\n",
       "    'The most appropriate medication for this patient will have which of the following mechanisms of action?']}]}"
      ]
     },
     "execution_count": 14,
     "metadata": {},
     "output_type": "execute_result"
    }
   ],
   "source": [
    "rv[0]"
   ]
  },
  {
   "cell_type": "code",
   "execution_count": 15,
   "id": "1a574abd-ebdc-49f9-8e15-1b8117dd7834",
   "metadata": {},
   "outputs": [
    {
     "data": {
      "text/plain": [
       "{'l2': 'Patient Care: Diagnosis—Obtaining and Predicting History and Physical Examination',\n",
       " 'l3': [{'l3': 'Knows signs/symptoms of selected disorders. Response options are signs and symptoms. The item asks which signs and symptoms are characteristic of the patient’s condition. Typically used when patient presents with the condition.',\n",
       "   'l4': ['Which of the following signs/symptoms is most consistent with the underlying diagnosis in this patient?']},\n",
       "  {'l3': 'Knows individual’s risk factors for development of condition. Given current symptoms in presented history, identifies pertinent factor in the history. Typically used when patient presents with the condition.',\n",
       "   'l4': ['Which of the following factors in this patient’s history most increased the risk for developing this condition?']},\n",
       "  {'l3': 'Given a specific problem, knows what to ask to obtain pertinent additional history. The response options should not be referenced in the vignette and should not include details that would be obtained during initial history-taking. If asking about information that was already obtained and is mentioned in the vignette, use the following lead-in.',\n",
       "   'l4': ['It is most appropriate to obtain specific additional history regarding which of the following?']},\n",
       "  {'l3': 'Predicts the most likely additional physical finding; selects either the finding itself or the appropriate examination technique that would result in the finding. The options are findings or directed physical examination techniques.',\n",
       "   'l4': ['The remainder of the physical examination is most likely to show which of the following? (ensure all options are portions of the physical examination that would not yet have occurred in the patient scenario)',\n",
       "    'It is most appropriate to direct the physical examination toward which of the following? (sample options: “Auscultation of the lungs,” “Palpation of the abdomen,” “Rotation of hip joints”)',\n",
       "    'Which of the following signs or symptoms is most indicative of the need for further studies?']}]}"
      ]
     },
     "execution_count": 15,
     "metadata": {},
     "output_type": "execute_result"
    }
   ],
   "source": [
    "rv[1]"
   ]
  },
  {
   "cell_type": "code",
   "execution_count": 17,
   "id": "6b38674e-4fc6-4741-a09f-c28c54ca59b1",
   "metadata": {},
   "outputs": [],
   "source": [
    "flatten = flatten_outline(rv)"
   ]
  },
  {
   "cell_type": "code",
   "execution_count": 18,
   "id": "07c23fce-b7bb-49fd-afcf-c789d397278e",
   "metadata": {},
   "outputs": [
    {
     "data": {
      "text/plain": [
       "214"
      ]
     },
     "execution_count": 18,
     "metadata": {},
     "output_type": "execute_result"
    }
   ],
   "source": [
    "len(flatten)"
   ]
  },
  {
   "cell_type": "code",
   "execution_count": 29,
   "id": "7f3d9a89-ac94-4d29-aef2-85a5ee62a53e",
   "metadata": {
    "scrolled": true
   },
   "outputs": [],
   "source": [
    "for ex in flatten:\n",
    "    l3 = ex['l3']\n",
    "    if not l3:\n",
    "        ex['l3'] = ex['l2']"
   ]
  },
  {
   "cell_type": "code",
   "execution_count": 30,
   "id": "bb869af4-53f0-45f7-8b44-b41ef0c15334",
   "metadata": {},
   "outputs": [],
   "source": [
    "l2 = set()\n",
    "l3 = set()\n",
    "l4 = set()\n",
    "\n",
    "for example in flatten:\n",
    "    l2.add(example['l2'])\n",
    "    l3.add(example['l3'])\n",
    "    l4.add(example['l4'])"
   ]
  },
  {
   "cell_type": "code",
   "execution_count": 31,
   "id": "c0980760-a216-4551-ac97-09492d5c82aa",
   "metadata": {},
   "outputs": [
    {
     "data": {
      "text/plain": [
       "14"
      ]
     },
     "execution_count": 31,
     "metadata": {},
     "output_type": "execute_result"
    }
   ],
   "source": [
    "len(l2)"
   ]
  },
  {
   "cell_type": "code",
   "execution_count": 32,
   "id": "3d77668e-c634-4e16-9ae6-a79b5e3399ff",
   "metadata": {},
   "outputs": [
    {
     "data": {
      "text/plain": [
       "75"
      ]
     },
     "execution_count": 32,
     "metadata": {},
     "output_type": "execute_result"
    }
   ],
   "source": [
    "len(l3)"
   ]
  },
  {
   "cell_type": "code",
   "execution_count": 33,
   "id": "e9115552-fd1e-4055-bc21-2e82c52da08f",
   "metadata": {},
   "outputs": [
    {
     "data": {
      "text/plain": [
       "210"
      ]
     },
     "execution_count": 33,
     "metadata": {},
     "output_type": "execute_result"
    }
   ],
   "source": [
    "len(l4)"
   ]
  },
  {
   "cell_type": "code",
   "execution_count": 34,
   "id": "990b3f37-0906-4d24-9440-61c2f90d4f2e",
   "metadata": {},
   "outputs": [],
   "source": [
    "l2_lst = list(l2)\n",
    "l3_lst = list(l3)\n",
    "l4_lst = list(l4)"
   ]
  },
  {
   "cell_type": "code",
   "execution_count": 35,
   "id": "cd9ec20e-6d08-468f-be03-cdb538c5fa5a",
   "metadata": {},
   "outputs": [
    {
     "data": {
      "text/plain": [
       "{'Communication and Interpersonal Skills',\n",
       " 'Patient Care: Diagnosis—Causes and Mechanisms',\n",
       " 'Patient Care: Diagnosis—Determining Prognosis/Outcome',\n",
       " 'Patient Care: Diagnosis—Formulating the Diagnosis',\n",
       " 'Patient Care: Diagnosis—Obtaining and Predicting History and Physical Examination',\n",
       " 'Patient Care: Diagnosis—Selecting and Interpreting Laboratory and Diagnostic Studies',\n",
       " 'Patient Care: Management—Clinical Interventions/Treatments',\n",
       " 'Patient Care: Management—Health Maintenance and Disease Prevention',\n",
       " 'Patient Care: Management—Monitoring/Surveillance for Disease Recurrence or Progression',\n",
       " 'Patient Care: Management—Selecting Clinical Interventions (Mixed Management)',\n",
       " 'Patient Care: Management—Selecting and Monitoring Pharmacotherapy',\n",
       " 'Practice-based Learning—Applied Biostatistics and Clinical Epidemiology',\n",
       " 'Professionalism and Legal/Ethical Issues',\n",
       " 'Systems-based Practice and Patient Safety'}"
      ]
     },
     "execution_count": 35,
     "metadata": {},
     "output_type": "execute_result"
    }
   ],
   "source": [
    "l2"
   ]
  },
  {
   "cell_type": "code",
   "execution_count": 36,
   "id": "4cccf561-a3cd-4236-9de3-7d10cecaa3d2",
   "metadata": {},
   "outputs": [],
   "source": [
    "import json\n",
    "def json_dump(file_path, data):\n",
    "    with open(file_path, 'w') as f:\n",
    "        json.dump(data, f, indent=1, ensure_ascii=False)\n",
    "    print(f\"Data successfully written to {file_path}\")"
   ]
  },
  {
   "cell_type": "code",
   "execution_count": 37,
   "id": "c1b1ca02-d790-4e98-9520-bad929f0bcae",
   "metadata": {},
   "outputs": [
    {
     "name": "stdout",
     "output_type": "stream",
     "text": [
      "Data successfully written to /home/poyuan/workspace/MCQG/Category/NBME/l2.json\n",
      "Data successfully written to /home/poyuan/workspace/MCQG/Category/NBME/l3.json\n",
      "Data successfully written to /home/poyuan/workspace/MCQG/Category/NBME/l4.json\n"
     ]
    }
   ],
   "source": [
    "l2_file_path = os.path.join(DEST_DIR, 'l2.json')\n",
    "json_dump(l2_file_path, l2_lst)\n",
    "\n",
    "l3_file_path = os.path.join(DEST_DIR, 'l3.json')\n",
    "json_dump(l3_file_path, l3_lst)\n",
    "\n",
    "l4_file_path = os.path.join(DEST_DIR, 'l4.json')\n",
    "json_dump(l4_file_path, l4_lst)"
   ]
  },
  {
   "cell_type": "code",
   "execution_count": 39,
   "id": "fb7b1206-bc70-4b28-b354-5d7e0d67442a",
   "metadata": {},
   "outputs": [
    {
     "name": "stdout",
     "output_type": "stream",
     "text": [
      "Data successfully written to /home/poyuan/workspace/MCQG/Category/NBME/nbme.json\n"
     ]
    }
   ],
   "source": [
    "flatten_file_path = os.path.join(DEST_DIR, 'nbme.json')\n",
    "json_dump(flatten_file_path, flatten)"
   ]
  },
  {
   "cell_type": "code",
   "execution_count": null,
   "id": "157ae4f7-9eed-4b53-84b1-56d1170866a8",
   "metadata": {},
   "outputs": [],
   "source": []
  }
 ],
 "metadata": {
  "kernelspec": {
   "display_name": "Python 3 (ipykernel)",
   "language": "python",
   "name": "python3"
  },
  "language_info": {
   "codemirror_mode": {
    "name": "ipython",
    "version": 3
   },
   "file_extension": ".py",
   "mimetype": "text/x-python",
   "name": "python",
   "nbconvert_exporter": "python",
   "pygments_lexer": "ipython3",
   "version": "3.13.5"
  }
 },
 "nbformat": 4,
 "nbformat_minor": 5
}
