{
 "cells": [
  {
   "cell_type": "code",
   "execution_count": null,
   "id": "6cd01f90-2574-4db8-90b5-38bf9def38dd",
   "metadata": {},
   "outputs": [],
   "source": []
  },
  {
   "cell_type": "code",
   "execution_count": 1,
   "id": "2cb3d2b1-0f44-4d96-8ac0-24d931f8de1e",
   "metadata": {},
   "outputs": [],
   "source": [
    "import os\n",
    "import json"
   ]
  },
  {
   "cell_type": "code",
   "execution_count": 2,
   "id": "ba15a123-fe7a-4049-9f00-4448dc7c6c32",
   "metadata": {},
   "outputs": [],
   "source": [
    "def mkdir(dir):\n",
    "    if os.path.isdir(dir):\n",
    "        print(f\"Directory '{dir}' already exists.\")\n",
    "    else:\n",
    "        os.makedirs(dir)\n",
    "        print(f\"Directory '{dir}' created successfully.\")\n",
    "\n",
    "def json_load(file_path):\n",
    "    with open(file_path, 'r') as f:\n",
    "        data_dict = json.load(f)\n",
    "    return data_dict"
   ]
  },
  {
   "cell_type": "code",
   "execution_count": 3,
   "id": "e9937eca-8aaf-425b-a7d2-0d4180e18625",
   "metadata": {},
   "outputs": [],
   "source": [
    "SOURCE_DIR = \"/home/poyuan/workspace/TransFlow/data/outputs/trans/nbme_gemma\"\n",
    "#SOURCE_DIR = \"/home/poyuan/workspace/TransFlow/data/outputs/trans/nmbe_gpt-oss\""
   ]
  },
  {
   "cell_type": "code",
   "execution_count": 4,
   "id": "e47c2fe5-011c-4be9-933f-3373cde94cce",
   "metadata": {},
   "outputs": [
    {
     "name": "stdout",
     "output_type": "stream",
     "text": [
      "Directory 'outputs/nbme_gemma' created successfully.\n"
     ]
    }
   ],
   "source": [
    "basename = os.path.basename(SOURCE_DIR)\n",
    "DEST_DIR = os.path.join('outputs', basename)\n",
    "mkdir(DEST_DIR)"
   ]
  },
  {
   "cell_type": "code",
   "execution_count": 5,
   "id": "0b473f90-14bd-4fa4-8628-7f38039b53e9",
   "metadata": {},
   "outputs": [],
   "source": [
    "file_names = os.listdir(SOURCE_DIR)\n",
    "sorted_file_names = sorted(file_names, key=lambda x: int(os.path.splitext(x)[0]))"
   ]
  },
  {
   "cell_type": "code",
   "execution_count": 6,
   "id": "201054df-cdeb-40ce-bc63-0d28b722905e",
   "metadata": {},
   "outputs": [],
   "source": [
    "data = []\n",
    "for file_name in sorted_file_names:\n",
    "    file_path = os.path.join(SOURCE_DIR, file_name)\n",
    "    tmp = json_load(file_path)\n",
    "    data.extend(tmp)"
   ]
  },
  {
   "cell_type": "code",
   "execution_count": 7,
   "id": "84a34b6c-4284-427b-8855-03b5bdadde54",
   "metadata": {},
   "outputs": [],
   "source": [
    "txt_en = ''\n",
    "txt_zh = ''\n",
    "topic_en = ''\n",
    "topic_zh = ''\n",
    "topic_cat_en = ''\n",
    "topic_cat_zh = ''\n",
    "\n",
    "for line in data:\n",
    "    zh = line[0] + '\\n'\n",
    "    en = line[1]\n",
    "\n",
    "    txt_en += en\n",
    "    txt_zh += zh\n",
    "\n",
    "    if en.startswith('-'):\n",
    "        topic_en+=en\n",
    "        topic_zh+=zh\n",
    "    else:\n",
    "        topic_cat_en+=en\n",
    "        topic_cat_zh+=zh\n",
    "\n",
    "with open(os.path.join(DEST_DIR, 'en.txt'), 'w') as f:\n",
    "    f.write(txt_en)\n",
    "\n",
    "with open(os.path.join(DEST_DIR, 'zh.txt'), 'w') as f:\n",
    "    f.write(txt_zh)\n",
    "\n",
    "with open(os.path.join(DEST_DIR, 'topic_en.txt'), 'w') as f:\n",
    "    f.write(topic_en)\n",
    "\n",
    "with open(os.path.join(DEST_DIR, 'topic_zh.txt'), 'w') as f:\n",
    "    f.write(topic_zh)\n",
    "\n",
    "with open(os.path.join(DEST_DIR, 'topic_cat_en.txt'), 'w') as f:\n",
    "    f.write(topic_cat_en)\n",
    "\n",
    "with open(os.path.join(DEST_DIR, 'topic_cat_zh.txt'), 'w') as f:\n",
    "    f.write(topic_cat_zh)"
   ]
  },
  {
   "cell_type": "code",
   "execution_count": 8,
   "id": "fd6c46fb-37d7-4c95-ac6f-94424abbff1a",
   "metadata": {},
   "outputs": [
    {
     "data": {
      "text/plain": [
       "['病患照護：診斷—病因與機制，確定病因/感染源或易感因素，或在已知效應下，確定病因。',\n",
       " 'Patient Care: Diagnosis—Causes and Mechanisms Identifies the cause/infectious agent or predisposing factor(s) or, given an effect, determines the cause.\\n']"
      ]
     },
     "execution_count": 8,
     "metadata": {},
     "output_type": "execute_result"
    }
   ],
   "source": [
    "data[1]"
   ]
  }
 ],
 "metadata": {
  "kernelspec": {
   "display_name": "Python 3 (ipykernel)",
   "language": "python",
   "name": "python3"
  },
  "language_info": {
   "codemirror_mode": {
    "name": "ipython",
    "version": 3
   },
   "file_extension": ".py",
   "mimetype": "text/x-python",
   "name": "python",
   "nbconvert_exporter": "python",
   "pygments_lexer": "ipython3",
   "version": "3.12.8"
  }
 },
 "nbformat": 4,
 "nbformat_minor": 5
}
